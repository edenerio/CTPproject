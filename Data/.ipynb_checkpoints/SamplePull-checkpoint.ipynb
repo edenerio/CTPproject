{
 "cells": [
  {
   "cell_type": "code",
   "execution_count": 1,
   "id": "7dbcb55c",
   "metadata": {},
   "outputs": [],
   "source": [
    "import pandas as pd\n",
    "from sklearn.model_selection import StratifiedShuffleSplit as spl\n",
    "import warnings\n",
    "warnings.filterwarnings('ignore')"
   ]
  },
  {
   "cell_type": "code",
   "execution_count": 42,
   "id": "4632db3a",
   "metadata": {},
   "outputs": [
    {
     "name": "stdout",
     "output_type": "stream",
     "text": [
      "(3088232, 46) DF,(2980143, 46) train, (108089, 46) test\n"
     ]
    }
   ],
   "source": [
    "df = pd.read_sas(\"./spm_pu_2019.sas7bdat\")\n",
    "df.head()\n",
    "\n",
    "split = spl(n_splits = 1, test_size = 0.035, random_state=12)\n",
    "for train_index, test_index in split.split(df, df['offpoor']):\n",
    "    strat_train_set = df.iloc[train_index]\n",
    "    strat_test_set = df.iloc[test_index]\n",
    "\n",
    "print(f\"{df.shape} DF,{strat_train_set.shape} train, {strat_test_set.shape} test\")"
   ]
  },
  {
   "cell_type": "code",
   "execution_count": 43,
   "id": "7ea32efb",
   "metadata": {},
   "outputs": [],
   "source": [
    "strat_test_set.to_csv(\"./Samples/2019_sample.csv\", index=False)"
   ]
  },
  {
   "cell_type": "code",
   "execution_count": null,
   "id": "1edf55fd",
   "metadata": {},
   "outputs": [],
   "source": []
  }
 ],
 "metadata": {
  "kernelspec": {
   "display_name": "Python 3",
   "language": "python",
   "name": "python3"
  },
  "language_info": {
   "codemirror_mode": {
    "name": "ipython",
    "version": 3
   },
   "file_extension": ".py",
   "mimetype": "text/x-python",
   "name": "python",
   "nbconvert_exporter": "python",
   "pygments_lexer": "ipython3",
   "version": "3.10.9 (tags/v3.10.9:1dd9be6, Dec  6 2022, 20:01:21) [MSC v.1934 64 bit (AMD64)]"
  },
  "vscode": {
   "interpreter": {
    "hash": "5c073f595cd50fd1bb1005fbf7ddb00af09bff72e60307ae6ca8f629c96f1871"
   }
  }
 },
 "nbformat": 4,
 "nbformat_minor": 5
}
